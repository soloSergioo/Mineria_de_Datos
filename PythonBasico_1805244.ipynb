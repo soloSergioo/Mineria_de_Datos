{
 "cells": [
  {
   "cell_type": "code",
   "execution_count": 1,
   "metadata": {},
   "outputs": [
    {
     "name": "stdout",
     "output_type": "stream",
     "text": [
      "Hola Mundo\n"
     ]
    }
   ],
   "source": [
    "print(\"Hola Mundo\")"
   ]
  },
  {
   "cell_type": "markdown",
   "metadata": {},
   "source": [
    "## Ejercicio 1 ##"
   ]
  },
  {
   "cell_type": "markdown",
   "metadata": {},
   "source": [
    "- Nombre Matricula"
   ]
  },
  {
   "cell_type": "code",
   "execution_count": 19,
   "metadata": {},
   "outputs": [
    {
     "name": "stdout",
     "output_type": "stream",
     "text": [
      "Sergio Velázquez Rivera \n",
      " 1805244\n"
     ]
    }
   ],
   "source": [
    "matricula=\"1805244\"\n",
    "nombre= \"Sergio Velázquez Rivera\"\n",
    "print(nombre,\"\\n\", matricula)"
   ]
  },
  {
   "cell_type": "markdown",
   "metadata": {},
   "source": [
    "## Ejercicio 2\n"
   ]
  },
  {
   "cell_type": "markdown",
   "metadata": {},
   "source": [
    "- Calculadora"
   ]
  },
  {
   "cell_type": "code",
   "execution_count": 15,
   "metadata": {},
   "outputs": [
    {
     "name": "stdout",
     "output_type": "stream",
     "text": [
      "1. Suma\n",
      "2. Resta\n",
      "3. Multiplicacion\n",
      "3. Division\n",
      "4. Exponente\n",
      "0. Salir\n",
      "Opcion : 0\n"
     ]
    }
   ],
   "source": [
    "opc = 1\n",
    "while opc != 0:\n",
    "    print(\"1. Suma(a+b)\\n2. Resta(a-b)\\n3. Multiplicacion(a*b)\\n3. Division(a/b)\\n4. Exponente(a^b)\\n0. Salir\")\n",
    "    opc = int(input (\"Opcion : \"))\n",
    "    if opc !=0:\n",
    "        a = float(input (\"Valor A : \"))\n",
    "        b = float(input (\"Valor B : \"))\n",
    "        if opc == 1:\n",
    "            r = a+b\n",
    "        if opc == 2:\n",
    "            r = a-b\n",
    "        if opc == 3:\n",
    "            r = a*b\n",
    "        if opc == 4:\n",
    "            r = a/b\n",
    "        if opc == 5:\n",
    "            r = a**b    \n",
    "        print(r)\n",
    "    \n",
    "   "
   ]
  },
  {
   "cell_type": "markdown",
   "metadata": {},
   "source": [
    "## Ejercicio 3"
   ]
  },
  {
   "cell_type": "markdown",
   "metadata": {},
   "source": [
    "- Lista 10 números multiplos de 3 "
   ]
  },
  {
   "cell_type": "code",
   "execution_count": 29,
   "metadata": {},
   "outputs": [
    {
     "name": "stdout",
     "output_type": "stream",
     "text": [
      "[3, 6, 9, 12, 15, 18, 21, 24, 27, 30]\n",
      "165\n"
     ]
    }
   ],
   "source": [
    "suma3 = 0\n",
    "lista = []\n",
    "for i in range(1,11*3):\n",
    "    if i%3==0:\n",
    "        lista.append((i))\n",
    "        suma3 = suma3 + i\n",
    "print(lista)\n",
    "print(suma3)\n"
   ]
  },
  {
   "cell_type": "markdown",
   "metadata": {},
   "source": [
    "## Ejercicio 4"
   ]
  },
  {
   "cell_type": "markdown",
   "metadata": {},
   "source": [
    "- Par/Impar\n",
    "- Primo/No Primo"
   ]
  },
  {
   "cell_type": "code",
   "execution_count": 80,
   "metadata": {},
   "outputs": [
    {
     "name": "stdout",
     "output_type": "stream",
     "text": [
      "Introduzca un numero : 7\n",
      "(7, 'Es impar')\n",
      "(7, 'Es primo')\n"
     ]
    }
   ],
   "source": [
    "def par(num):\n",
    "    if num%2==0:\n",
    "        return(num, \"Es par\")\n",
    "    else:\n",
    "        return(num, \"Es impar\")\n",
    "    \n",
    "def primo(num): \n",
    "    c=0\n",
    "    for i in range(1,num+1):\n",
    "        if num%i==0:\n",
    "            c=c+1\n",
    "    if c==2:\n",
    "        return(num, \"Es primo\")\n",
    "    else:\n",
    "        return(num, \"No es primo\")\n",
    "\n",
    "num = int(input(\"Introduzca un numero : \"))\n",
    "print(par(num))\n",
    "print(primo(num))"
   ]
  },
  {
   "cell_type": "markdown",
   "metadata": {},
   "source": [
    "## Ejercicio 5"
   ]
  },
  {
   "cell_type": "markdown",
   "metadata": {},
   "source": [
    "- Calculadora con clases"
   ]
  },
  {
   "cell_type": "code",
   "execution_count": 84,
   "metadata": {},
   "outputs": [
    {
     "name": "stdout",
     "output_type": "stream",
     "text": [
      "1. Suma(x+y)\n",
      "2. Resta(x-y)\n",
      "3. Multiplicacion(x*y)\n",
      "3. Division(x/y)\n",
      "4. Exponente(x^y)\n",
      "0. Salir\n",
      "Opcion : 3\n",
      "Valor x : 9.2\n",
      "Valor y : 9.3\n",
      "85.56\n",
      "1. Suma(x+y)\n",
      "2. Resta(x-y)\n",
      "3. Multiplicacion(x*y)\n",
      "3. Division(x/y)\n",
      "4. Exponente(x^y)\n",
      "0. Salir\n",
      "Opcion : 0\n"
     ]
    }
   ],
   "source": [
    "def suma(x,y):\n",
    "    return x+y\n",
    "def resta(x,y):\n",
    "    return x-y\n",
    "def multiplicacion(x,y):\n",
    "    return x*y\n",
    "def division(x,y):\n",
    "    return x/y\n",
    "def exponente(x,y):\n",
    "    return x**y\n",
    "\n",
    "opc = 1\n",
    "while opc != 0:\n",
    "    print(\"1. Suma(x+y)\\n2. Resta(x-y)\\n3. Multiplicacion(x*y)\\n3. Division(x/y)\\n4. Exponente(x^y)\\n0. Salir\")\n",
    "    opc = int(input (\"Opcion : \"))\n",
    "    if opc !=0:\n",
    "        x = float(input (\"Valor x : \"))\n",
    "        y = float(input (\"Valor y : \"))\n",
    "        if opc == 1:\n",
    "            print(suma(x,y))\n",
    "        if opc == 2:\n",
    "            print(resta(x,y))\n",
    "        if opc == 3:\n",
    "            print(multiplicacion(x,y))\n",
    "        if opc == 4:\n",
    "            print(division(x,y))\n",
    "        if opc == 5:\n",
    "            print(exponente(x,y))    \n"
   ]
  },
  {
   "cell_type": "markdown",
   "metadata": {},
   "source": [
    "## TUPLAS"
   ]
  },
  {
   "cell_type": "markdown",
   "metadata": {},
   "source": [
    "- Crear una variable flotante, integer, boleana y compleja e imprimir el tipo de variable que es.\n",
    "\n",
    "- Crear una tupla con valores enteros imprimir el primer y ultimo valor.\n",
    "\n",
    "- Añadir 3 valores de string a la tupla.\n",
    "\n",
    "- Verificar si una variable existe dentro de la tupla"
   ]
  },
  {
   "cell_type": "code",
   "execution_count": 100,
   "metadata": {},
   "outputs": [
    {
     "name": "stdout",
     "output_type": "stream",
     "text": [
      "<class 'float'>\n",
      "<class 'int'>\n",
      "<class 'bool'>\n",
      "<class 'complex'>\n"
     ]
    }
   ],
   "source": [
    "flotante=10.10\n",
    "entera=10\n",
    "boleana=True\n",
    "compleja=100j\n",
    "\n",
    "print(type(flotante))\n",
    "print(type(entera))\n",
    "print(type(boleana))\n",
    "print(type(compleja))"
   ]
  },
  {
   "cell_type": "code",
   "execution_count": 119,
   "metadata": {},
   "outputs": [
    {
     "name": "stdout",
     "output_type": "stream",
     "text": [
      "Primer valor:  10\n",
      "Ultimo valor:  100\n"
     ]
    }
   ],
   "source": [
    "tpl = (10,20,30,40,50,60,70,80,90,100)\n",
    "print(\"Primer valor: \", tpl[0])\n",
    "print(\"Ultimo valor: \", tpl[len(tpl)-1])"
   ]
  },
  {
   "cell_type": "code",
   "execution_count": 120,
   "metadata": {},
   "outputs": [
    {
     "data": {
      "text/plain": [
       "(10, 20, 30, 40, 50, 60, 70, 80, 90, 100, 'I', 'like', 'you')"
      ]
     },
     "execution_count": 120,
     "metadata": {},
     "output_type": "execute_result"
    }
   ],
   "source": [
    "tpl = tpl+(\"I\",\"like\",\"you\")\n",
    "tpl"
   ]
  },
  {
   "cell_type": "code",
   "execution_count": 121,
   "metadata": {},
   "outputs": [
    {
     "data": {
      "text/plain": [
       "True"
      ]
     },
     "execution_count": 121,
     "metadata": {},
     "output_type": "execute_result"
    }
   ],
   "source": [
    "100 in tpl"
   ]
  },
  {
   "cell_type": "markdown",
   "metadata": {},
   "source": [
    "## Listas\n"
   ]
  },
  {
   "cell_type": "markdown",
   "metadata": {},
   "source": [
    "- Crear una lista con 40 elementos aleatorios enteros.\n",
    "\n",
    "- Con una funcion (def) crear dos listas nuevas a partir de la lista creada por numeros aleatorios, en la cual en una esten los elementos pares, y en la otra los elementos impares.\n",
    "\n",
    "- Crear dos variables con la longitud de ambas listas nuevas e imprimir las variables.\n",
    "\n",
    "- Ordenar los elementos de la lista par de mayor a menor, y los de la lista impar de menor a mayor.\n",
    "\n",
    "- Utilizar al menos cuatro de las funciones de listas en python en la lista original de 40 elementos"
   ]
  },
  {
   "cell_type": "code",
   "execution_count": 4,
   "metadata": {},
   "outputs": [
    {
     "name": "stdout",
     "output_type": "stream",
     "text": [
      "[1, 5, 7, 7, 3, 8, 10, 5, 6, 5, 10, 9, 10, 10, 10, 8, 3, 3, 6, 10, 4, 1, 2, 8, 7, 7, 10, 6, 9, 6, 10, 7, 8, 3, 7, 4, 7, 5, 6, 1]\n"
     ]
    },
    {
     "data": {
      "text/plain": [
       "40"
      ]
     },
     "execution_count": 4,
     "metadata": {},
     "output_type": "execute_result"
    }
   ],
   "source": [
    "import random as rm\n",
    "\n",
    "lista2 = []\n",
    "for i in range(1,40+1):\n",
    "    lista2.append((rm.randint(1,10)))\n",
    "print(lista2)\n",
    "len(lista2)"
   ]
  },
  {
   "cell_type": "code",
   "execution_count": 149,
   "metadata": {},
   "outputs": [
    {
     "name": "stdout",
     "output_type": "stream",
     "text": [
      "[10, 2, 2, 8, 2, 8, 4, 6, 2, 2, 8, 10, 4, 8, 6, 2, 4, 10]\n",
      "[9, 9, 9, 5, 9, 7, 3, 9, 1, 9, 1, 3, 9, 3, 7, 7, 5, 7, 9, 5, 3, 1]\n"
     ]
    }
   ],
   "source": [
    " def par_impar(lista2):\n",
    "        lista_par = []\n",
    "        lista_impar = []\n",
    "        for i in range(len(lista2)):\n",
    "            if lista2[i]%2==0:\n",
    "                lista_par.append(lista2[i])\n",
    "            else:\n",
    "                lista_impar.append(lista2[i])\n",
    "        return lista_par, lista_impar    \n",
    "lista_par, lista_impar = par_impar(lista2)\n",
    "print(lista_par)\n",
    "print(lista_impar)\n",
    "    "
   ]
  },
  {
   "cell_type": "code",
   "execution_count": 151,
   "metadata": {},
   "outputs": [
    {
     "name": "stdout",
     "output_type": "stream",
     "text": [
      "Tamaño Par :  18\n",
      "Tamaño Impar :  22\n"
     ]
    }
   ],
   "source": [
    "len_lista_par = len(lista_par)\n",
    "len_lista_impar = len(lista_impar)\n",
    "\n",
    "print(\"Tamaño Par : \", len_lista_par)\n",
    "print(\"Tamaño Impar : \", len_lista_impar)"
   ]
  },
  {
   "cell_type": "code",
   "execution_count": 152,
   "metadata": {},
   "outputs": [
    {
     "name": "stdout",
     "output_type": "stream",
     "text": [
      "Pares [Menor - Mayor] = [10, 10, 10, 8, 8, 8, 8, 6, 6, 4, 4, 4, 2, 2, 2, 2, 2, 2]\n",
      "Impares [Mayor - Menor] = [1, 1, 1, 3, 3, 3, 3, 5, 5, 5, 7, 7, 7, 7, 9, 9, 9, 9, 9, 9, 9, 9]\n"
     ]
    }
   ],
   "source": [
    "lista_par.sort(reverse=True)\n",
    "lista_impar.sort()\n",
    "\n",
    "print(\"Pares [Menor - Mayor] =\", lista_par)\n",
    "print(\"Impares [Mayor - Menor] =\", lista_impar)"
   ]
  },
  {
   "cell_type": "code",
   "execution_count": 16,
   "metadata": {},
   "outputs": [],
   "source": [
    "lista2.index(2)\n",
    "lista2.count(10)\n",
    "lista2.extend([2,4])\n",
    "len(lista2)\n",
    "lista2\n",
    "lista2.remove(2)\n",
    "\n",
    "#https://devcode.la/tutoriales/listas-python/"
   ]
  },
  {
   "cell_type": "markdown",
   "metadata": {},
   "source": [
    "## Diccionarios"
   ]
  },
  {
   "cell_type": "markdown",
   "metadata": {},
   "source": [
    "- Crear un diccionario de 6 personas que conozcas con su primer nombre y su edad.\n",
    "- Crear una lista con los valores de la edad y reacomodar la lista de menor a mayor valor.\n",
    "- Usando el diccionario y un loop, imprimir solo los nombres.\n",
    "- Añadir dos personas nuevas a tu diccionario, incluyendo edad."
   ]
  },
  {
   "cell_type": "code",
   "execution_count": 156,
   "metadata": {},
   "outputs": [
    {
     "data": {
      "text/plain": [
       "{'Sergio': 21,\n",
       " 'Angela': 21,\n",
       " 'Cassandra': 20,\n",
       " 'Daniela': 22,\n",
       " 'Jessica': 20,\n",
       " 'Mayra': 25}"
      ]
     },
     "execution_count": 156,
     "metadata": {},
     "output_type": "execute_result"
    }
   ],
   "source": [
    "Diccionario = {\"Sergio\":21,\n",
    "               \"Angela\":21,\n",
    "               \"Cassandra\":20,\n",
    "               \"Daniela\":22,\n",
    "               \"Jessica\":20,\n",
    "               \"Mayra\":25,}\n",
    "Diccionario"
   ]
  },
  {
   "cell_type": "code",
   "execution_count": 180,
   "metadata": {},
   "outputs": [
    {
     "name": "stdout",
     "output_type": "stream",
     "text": [
      "Edades [Menor-Mayor] :  [20, 20, 21, 21, 22, 25]\n"
     ]
    }
   ],
   "source": [
    "lista_edades=[i for i in Diccionario.values()]\n",
    "lista_edades.sort()\n",
    "print(\"Edades [Menor-Mayor] : \", lista_edades)"
   ]
  },
  {
   "cell_type": "code",
   "execution_count": 182,
   "metadata": {},
   "outputs": [
    {
     "data": {
      "text/plain": [
       "{'Sergio': 21,\n",
       " 'Angela': 21,\n",
       " 'Cassandra': 20,\n",
       " 'Daniela': 22,\n",
       " 'Jessica': 20,\n",
       " 'Mayra': 25,\n",
       " 'Armando': 22,\n",
       " 'Omar': 21}"
      ]
     },
     "execution_count": 182,
     "metadata": {},
     "output_type": "execute_result"
    }
   ],
   "source": [
    "Diccionario[\"Armando\"] = 22\n",
    "Diccionario[\"Omar\"] = 21\n",
    "Diccionario"
   ]
  },
  {
   "cell_type": "markdown",
   "metadata": {},
   "source": [
    "## Sets"
   ]
  },
  {
   "cell_type": "markdown",
   "metadata": {},
   "source": [
    "- Crea un set con 100 numeros aleatorios enteros del 1 al 25.\n",
    "- Comprueba la longitud de tu set.\n",
    "- Crea una lista de 5 numeros aleatorios del 1 al 10 y comprueba si cada valor aparece en el set inicial"
   ]
  },
  {
   "cell_type": "code",
   "execution_count": 195,
   "metadata": {},
   "outputs": [
    {
     "name": "stdout",
     "output_type": "stream",
     "text": [
      "[7, 8, 7, 16, 22, 11, 1, 8, 10, 10, 1, 3, 14, 6, 23, 12, 15, 6, 24, 8, 21, 24, 22, 20, 5, 13, 19, 9, 17, 5, 22, 14, 2, 2, 13, 8, 25, 2, 13, 2, 4, 1, 1, 10, 3, 14, 15, 2, 6, 24, 7, 15, 7, 9, 20, 25, 5, 2, 23, 16, 11, 22, 11, 2, 18, 2, 20, 14, 20, 25, 23, 20, 22, 23, 9, 16, 19, 18, 6, 13, 13, 17, 2, 13, 10, 3, 14, 10, 17, 4, 12, 4, 1, 4, 16, 21, 17, 24, 18, 21]\n"
     ]
    }
   ],
   "source": [
    "set_aleatorio = []\n",
    "for i in range(1,100+1):\n",
    "    set_aleatorio.append(rm.randint(1,25))\n",
    "print(set_aleatorio)"
   ]
  },
  {
   "cell_type": "code",
   "execution_count": 196,
   "metadata": {},
   "outputs": [
    {
     "data": {
      "text/plain": [
       "100"
      ]
     },
     "execution_count": 196,
     "metadata": {},
     "output_type": "execute_result"
    }
   ],
   "source": [
    "len(set_aleatorio)"
   ]
  },
  {
   "cell_type": "code",
   "execution_count": 209,
   "metadata": {},
   "outputs": [
    {
     "name": "stdout",
     "output_type": "stream",
     "text": [
      "[1, 8, 4, 10, 9]\n",
      "1 \tSe encuentra en el set_aleatorio\n",
      "8 \tSe encuentra en el set_aleatorio\n",
      "4 \tSe encuentra en el set_aleatorio\n",
      "10 \tSe encuentra en el set_aleatorio\n",
      "9 \tSe encuentra en el set_aleatorio\n"
     ]
    }
   ],
   "source": [
    "set_aleatorio2 = []\n",
    "for i in range(1,5+1):\n",
    "    set_aleatorio2.append(rm.randint(1,10))\n",
    "print(set_aleatorio2)\n",
    "\n",
    "for i in range(5):\n",
    "    if set_aleatorio2[i] in set_aleatorio:\n",
    "        print(set_aleatorio2[i],\"\\tSe encuentra en el set_aleatorio\")\n",
    "    else:\n",
    "        print(set_aleatorio2[i],\"\\tNo se encuentra en el set_aleatorio\")"
   ]
  }
 ],
 "metadata": {
  "kernelspec": {
   "display_name": "Python 3",
   "language": "python",
   "name": "python3"
  },
  "language_info": {
   "codemirror_mode": {
    "name": "ipython",
    "version": 3
   },
   "file_extension": ".py",
   "mimetype": "text/x-python",
   "name": "python",
   "nbconvert_exporter": "python",
   "pygments_lexer": "ipython3",
   "version": "3.8.3"
  }
 },
 "nbformat": 4,
 "nbformat_minor": 4
}
